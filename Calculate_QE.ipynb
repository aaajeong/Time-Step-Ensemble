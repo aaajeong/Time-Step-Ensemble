{
 "cells": [
  {
   "cell_type": "code",
   "execution_count": 1,
   "id": "86de0f08",
   "metadata": {},
   "outputs": [],
   "source": [
    "import torch\n",
    "import openpyxl\n",
    "import numpy as np \n",
    "from tqe import TQE"
   ]
  },
  {
   "cell_type": "code",
   "execution_count": 2,
   "id": "9c40e1a5",
   "metadata": {},
   "outputs": [],
   "source": [
    "wb = openpyxl.load_workbook('TQE(Epoch).xlsx')\n",
    "sheet = wb['model_1']\n",
    "# source : 번역 원문\n",
    "# target : 기계 번역 문장\n",
    "\n",
    "for i in range(2, 1002):\n",
    "    target = []\n",
    "    source = []\n",
    "    candidate = sheet.cell(row = i, column = 4).value.capitalize()\n",
    "    reference = sheet.cell(row = i, column = 3).value\n",
    "    print(i, ':', candidate)\n",
    "\n",
    "    # Translation Quality Estimator (QE)\n",
    "    # https://github.com/theRay07/Translation-Quality-Estimator\n",
    "    target.append(candidate)\n",
    "    source.append(reference)\n",
    "    model = TQE('LaBSE')\n",
    "    cos_sim_values = model.fit(source, target)\n",
    "    sheet.cell(row = i, column = 5).value = cos_sim_values[0]\n",
    "    \n",
    "wb.save('TQE(Epoch).xlsx')\n",
    "\n",
    "\n",
    "# lang_1 = [\"my son s name is tom .\"]\n",
    "# lang_2 = [\"El nombre de mi hijo es Tom.\"]\n",
    "\n",
    "# model = TQE('LaBSE')\n",
    "# cos_sim_values = model.fit(lang_1, lang_2)\n",
    "# print(cos_sim_values)\n"
   ]
  },
  {
   "cell_type": "code",
   "execution_count": 8,
   "id": "b70d0b82",
   "metadata": {},
   "outputs": [],
   "source": [
    "# wb = openpyxl.load_workbook('TQE(Epoch).xlsx')\n",
    "# sheet = wb['model_1']\n",
    "# qe = []\n",
    "\n",
    "\n",
    "# for i in range(2, 1002):\n",
    "#     qe.append(float(sheet.cell(row = i, column = 5).value))\n",
    "\n",
    "    \n",
    "# qe = np.array(qe)\n",
    "\n",
    "# sheet.cell(row = 1002, column = 5).value = qe.mean()\n",
    "\n",
    "\n",
    "# wb.save('TQE(Epoch).xlsx')"
   ]
  }
 ],
 "metadata": {
  "kernelspec": {
   "display_name": "Python 3",
   "language": "python",
   "name": "python3"
  },
  "language_info": {
   "codemirror_mode": {
    "name": "ipython",
    "version": 3
   },
   "file_extension": ".py",
   "mimetype": "text/x-python",
   "name": "python",
   "nbconvert_exporter": "python",
   "pygments_lexer": "ipython3",
   "version": "3.7.9"
  }
 },
 "nbformat": 4,
 "nbformat_minor": 5
}
