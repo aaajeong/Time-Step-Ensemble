{
 "cells": [
  {
   "cell_type": "code",
   "execution_count": 1,
   "id": "c00910e6",
   "metadata": {},
   "outputs": [
    {
     "name": "stdout",
     "output_type": "stream",
     "text": [
      "main thread start\n",
      "sub thread start sub thread start  thread 1\n",
      "sub thread start  thread 2\n",
      " thread 0\n",
      "sub thread start  thread 3\n",
      "sub thread start  thread 4\n",
      "main thread end\n",
      "sub thread end sub thread end sub thread end sub thread end sub thread end  thread 1\n",
      " thread 2\n",
      " thread 3\n",
      " thread 4\n",
      " thread 0\n"
     ]
    }
   ],
   "source": [
    "# import threading\n",
    "# import time\n",
    "\n",
    "\n",
    "# class Worker(threading.Thread):\n",
    "#     def __init__(self, name):\n",
    "#         super().__init__()\n",
    "#         self.name = name            # thread 이름 지정\n",
    "\n",
    "#     def run(self):\n",
    "#         print(\"sub thread start \", threading.currentThread().getName())\n",
    "#         time.sleep(3)\n",
    "#         print(\"sub thread end \", threading.currentThread().getName())\n",
    "\n",
    "\n",
    "# print(\"main thread start\")\n",
    "# for i in range(5):\n",
    "#     name = \"thread {}\".format(i)\n",
    "#     t = Worker(name)                # sub thread 생성\n",
    "#     t.start()                       # sub thread의 run 메서드를 호출\n",
    "\n",
    "# print(\"main thread end\")"
   ]
  },
  {
   "cell_type": "code",
   "execution_count": 37,
   "id": "e515ff7e",
   "metadata": {},
   "outputs": [
    {
     "name": "stdout",
     "output_type": "stream",
     "text": [
      "{'do you have alcohol free drinks ? <end> ': [0, 1, 3], 'does europe have alcohol free drinks ? <end> ': [2], 'do you have any further alcohol ? <end> ': [4]}\n",
      "{(0, 1, 3): 2.6399999999999997, (2,): 0.89, (4,): 0.66}\n",
      "do you have alcohol free drinks ? <end> \n"
     ]
    }
   ],
   "source": [
    "end_result = ['do you have alcohol free drinks ? <end> ', 'do you have alcohol free drinks ? <end> ', 'does europe have alcohol free drinks ? <end> ', 'do you have alcohol free drinks ? <end> ', 'do you have any further alcohol ? <end> ']\n",
    "group = {}\n",
    "index = []\n",
    "for m in range(5):\n",
    "    if end_result[m] in group:\n",
    "        group[end_result[m]].append(m)\n",
    "    else:\n",
    "        index = [m]\n",
    "        group[end_result[m]] = index\n",
    "print(group)\n",
    "\n",
    "softmax = [0.9, 0.98, 0.89, 0.76, 0.66]\n",
    "softmax_sum = {}\n",
    "\n",
    "for idx in group.values():\n",
    "    sum = 0\n",
    "    for m in idx:\n",
    "        sum += softmax[m]\n",
    "    softmax_sum[tuple(idx)] = sum\n",
    "\n",
    "print(softmax_sum)\n",
    "real_maj = max(softmax_sum, key = softmax_sum.get)\n",
    "\n",
    "for key, value in group.items():\n",
    "    if value == list(real_maj):\n",
    "        print(key)\n"
   ]
  },
  {
   "cell_type": "code",
   "execution_count": 4,
   "id": "8add93d0",
   "metadata": {},
   "outputs": [
    {
     "name": "stdout",
     "output_type": "stream",
     "text": [
      "나는 2\n",
      "3\n",
      "4\n",
      "5\n",
      "6\n",
      "7\n",
      "8\n",
      "9\n"
     ]
    }
   ],
   "source": [
    "for m in range(2, 10):\n",
    "    if m == 2:\n",
    "        print('나는 2')\n",
    "        m += 5\n",
    "    else:\n",
    "        print(m)"
   ]
  }
 ],
 "metadata": {
  "kernelspec": {
   "display_name": "Python 3",
   "language": "python",
   "name": "python3"
  },
  "language_info": {
   "codemirror_mode": {
    "name": "ipython",
    "version": 3
   },
   "file_extension": ".py",
   "mimetype": "text/x-python",
   "name": "python",
   "nbconvert_exporter": "python",
   "pygments_lexer": "ipython3",
   "version": "3.6.12"
  }
 },
 "nbformat": 4,
 "nbformat_minor": 5
}
